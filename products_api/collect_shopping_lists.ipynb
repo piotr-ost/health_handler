{
 "cells": [
  {
   "cell_type": "code",
   "execution_count": null,
   "metadata": {},
   "outputs": [],
   "source": [
    "import time\n",
    "import numpy as np\n",
    "import requests\n",
    "import json\n",
    "\n",
    "from datetime import datetime, timedelta"
   ]
  },
  {
   "cell_type": "code",
   "execution_count": null,
   "metadata": {},
   "outputs": [],
   "source": [
    "base = 'https://api.spoonacular.com'\n",
    "api_key = 'apiKey=556d5c003785468ab5aa696a128a3d3a'"
   ]
  },
  {
   "cell_type": "code",
   "execution_count": 86,
   "metadata": {},
   "outputs": [],
   "source": [
    "def get_mealplan_templates():\n",
    "    r = requests.get(base + '/mealplanner/public-templates?' + api_key)\n",
    "    return json.loads(r.content.decode())\n",
    "\n",
    "    \n",
    "def connect_user():\n",
    "    r = requests.post(base + '/users/connect?' + api_key, data='{}')\n",
    "    return json.loads(r.content.decode())\n",
    "\n",
    "\n",
    "def add_to_user_plan(user, mealplan_template_id):\n",
    "    date = round(time.time() + 100)\n",
    "    json_data = json.dumps({\n",
    "        'mealPlanTemplateId': mealplan_template_id, 'startDate': date\n",
    "    })\n",
    "    r = requests.post(\n",
    "        base + f\"/mealplanner/{user['username']}/items?{api_key}&hash={user['hash']}\",\n",
    "        data=json_data)\n",
    "    return json.loads(r.content.decode())\n",
    "\n",
    "\n",
    "def generate_shopping_list(user):\n",
    "    date_today = datetime.strftime(datetime.now(), '%Y-%m-%d')\n",
    "    date_in_a_week = datetime.strftime(datetime.now() + timedelta(7), '%Y-%m-%d')\n",
    "    r = requests.post(\n",
    "        base + '/mealplanner/' + user['username'] + '/shopping-list/' + date_today \n",
    "        + '/' + date_in_a_week + '?' + api_key + '&hash=' + user['hash'])\n",
    "    return json.loads(r.content.decode())"
   ]
  },
  {
   "cell_type": "code",
   "execution_count": null,
   "metadata": {},
   "outputs": [],
   "source": [
    "templates = get_mealplan_templates()\n",
    "i = 9\n",
    "for template in np.random.choice(templates['templates'], size=10):\n",
    "    user = connect_user()\n",
    "    id_ = template['id']\n",
    "    add_to_user_plan(user, id_)\n",
    "    with open(f'../shopping_lists/shoppingList{i}.json', 'w+') as f:\n",
    "        json.dump(generate_shopping_list(user), f, indent=2, ensure_ascii=False)\n",
    "    i += 1"
   ]
  }
 ],
 "metadata": {
  "kernelspec": {
   "display_name": "Python 3",
   "language": "python",
   "name": "python3"
  },
  "language_info": {
   "codemirror_mode": {
    "name": "ipython",
    "version": 3
   },
   "file_extension": ".py",
   "mimetype": "text/x-python",
   "name": "python",
   "nbconvert_exporter": "python",
   "pygments_lexer": "ipython3",
   "version": "3.7.6"
  }
 },
 "nbformat": 4,
 "nbformat_minor": 4
}
