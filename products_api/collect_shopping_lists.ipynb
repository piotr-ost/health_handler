{
 "cells": [
  {
   "cell_type": "code",
   "execution_count": 86,
   "metadata": {},
   "outputs": [],
   "source": [
    "import time\n",
    "import numpy as np\n",
    "from datetime import datetime, timedelta"
   ]
  },
  {
   "cell_type": "code",
   "execution_count": 20,
   "metadata": {},
   "outputs": [
    {
     "data": {
      "text/plain": [
       "'date(year, month, day) --> date object'"
      ]
     },
     "execution_count": 20,
     "metadata": {},
     "output_type": "execute_result"
    }
   ],
   "source": [
    "datetime.date.__doc__"
   ]
  },
  {
   "cell_type": "code",
   "execution_count": 103,
   "metadata": {},
   "outputs": [],
   "source": [
    "import requests\n",
    "import json\n",
    "\n",
    "\n",
    "base = 'https://api.spoonacular.com'\n",
    "api_key = 'apiKey=556d5c003785468ab5aa696a128a3d3a'\n",
    "    \n",
    "\n",
    "def get_mealplan_templates():\n",
    "    r = requests.get(base + '/mealplanner/public-templates?' + api_key)\n",
    "    return json.loads(r.content.decode())\n",
    "\n",
    "    \n",
    "def connect_user():\n",
    "    r = requests.post(base + '/users/connect?' + api_key, data='{}')\n",
    "    return json.loads(r.content.decode())\n",
    "\n",
    "\n",
    "def add_to_user_plan(user, mealplan_template_id):\n",
    "    date = round(time.time() + 100)\n",
    "    json_data = json.dumps({\n",
    "        'mealPlanTemplateId': mealplan_template_id, 'startDate': date\n",
    "    })\n",
    "    r = requests.post(\n",
    "        base + f\"/mealplanner/{user['username']}/items?{api_key}&hash={user['hash']}\",\n",
    "        data=json_data)\n",
    "    return json.loads(r.content.decode())\n",
    "\n",
    "\n",
    "def generate_shopping_list(user):\n",
    "    date_today = datetime.strftime(datetime.now(), '%Y-%m-%d')\n",
    "    date_in_a_week = datetime.strftime(datetime.now() + timedelta(7), '%Y-%m-%d')\n",
    "    r = requests.post(\n",
    "        base + '/mealplanner/' + user['username'] + '/shopping-list/' + date_today \n",
    "        + '/' + date_in_a_week + '?' + api_key + '&hash=' + user['hash'])\n",
    "    return json.loads(r.content.decode())"
   ]
  },
  {
   "cell_type": "code",
   "execution_count": 82,
   "metadata": {},
   "outputs": [],
   "source": [
    "user = connect_user()"
   ]
  },
  {
   "cell_type": "code",
   "execution_count": 84,
   "metadata": {},
   "outputs": [],
   "source": [
    "templates = get_mealplan_templates()"
   ]
  },
  {
   "cell_type": "code",
   "execution_count": 90,
   "metadata": {
    "scrolled": true
   },
   "outputs": [
    {
     "data": {
      "text/plain": [
       "array([{'id': 1989, 'name': 'wk 6'},\n",
       "       {'id': 1059, 'name': 'S2Shred Phase1'},\n",
       "       {'id': 2515, 'name': '2020-07-27'},\n",
       "       {'id': 1647, 'name': 'weight watcher 23 points +'},\n",
       "       {'id': 376, 'name': 'Week 7'}, {'id': 2659, 'name': 'sept 7 20'},\n",
       "       {'id': 1270, 'name': '2nd week january'},\n",
       "       {'id': 1485, 'name': 'May 7-May 11 Meal Plan'},\n",
       "       {'id': 1698, 'name': 'Week 1 - Buff'},\n",
       "       {'id': 2931, 'name': 'Test Meal Plan'}], dtype=object)"
      ]
     },
     "execution_count": 90,
     "metadata": {},
     "output_type": "execute_result"
    }
   ],
   "source": [
    "np.random.choice(templates['templates'], size=10)"
   ]
  },
  {
   "cell_type": "code",
   "execution_count": 97,
   "metadata": {},
   "outputs": [
    {
     "data": {
      "text/plain": [
       "{'status': 'success', 'itemsAdded': 57}"
      ]
     },
     "execution_count": 97,
     "metadata": {},
     "output_type": "execute_result"
    }
   ],
   "source": [
    "add_to_user_plan(user, 1989)"
   ]
  },
  {
   "cell_type": "code",
   "execution_count": null,
   "metadata": {
    "scrolled": false
   },
   "outputs": [],
   "source": [
    "generate_shopping_list(user)"
   ]
  }
 ],
 "metadata": {
  "kernelspec": {
   "display_name": "Python 3",
   "language": "python",
   "name": "python3"
  },
  "language_info": {
   "codemirror_mode": {
    "name": "ipython",
    "version": 3
   },
   "file_extension": ".py",
   "mimetype": "text/x-python",
   "name": "python",
   "nbconvert_exporter": "python",
   "pygments_lexer": "ipython3",
   "version": "3.7.6"
  }
 },
 "nbformat": 4,
 "nbformat_minor": 4
}
