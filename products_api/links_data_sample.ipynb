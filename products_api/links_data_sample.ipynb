{
 "cells": [
  {
   "cell_type": "code",
   "execution_count": 1,
   "metadata": {},
   "outputs": [],
   "source": [
    "import pickle"
   ]
  },
  {
   "cell_type": "code",
   "execution_count": 2,
   "metadata": {
    "scrolled": true
   },
   "outputs": [],
   "source": [
    "with open('data.pickle', 'rb') as f:\n",
    "    data = pickle.load(f)"
   ]
  },
  {
   "cell_type": "markdown",
   "metadata": {},
   "source": [
    "the data is the links from each of the pages"
   ]
  },
  {
   "cell_type": "code",
   "execution_count": 3,
   "metadata": {
    "scrolled": false
   },
   "outputs": [
    {
     "data": {
      "text/plain": [
       "['https://www.sainsburys.co.uk/shop/gb/groceries/product/details/fruitandveg-essentials/sainsburys-loose-fairtrade-bananas',\n",
       " 'https://www.sainsburys.co.uk/shop/gb/groceries/product/details/fruitandveg-essentials/sainsburys-loose-fairtrade-bananas',\n",
       " 'https://www.sainsburys.co.uk/shop/gb/groceries/product/details/fruitandveg-essentials/sainsburys-carrots-loose',\n",
       " 'https://www.sainsburys.co.uk/shop/gb/groceries/product/details/fruitandveg-essentials/sainsburys-carrots-loose',\n",
       " 'https://www.sainsburys.co.uk/shop/gb/groceries/product/details/fruitandveg-essentials/sainsburys-cucumber-whole']"
      ]
     },
     "execution_count": 3,
     "metadata": {},
     "output_type": "execute_result"
    }
   ],
   "source": [
    "data[:5]"
   ]
  },
  {
   "cell_type": "markdown",
   "metadata": {},
   "source": [
    "Okay, so it appears there are duplicates there. What im gonna do is scrape \n",
    "all of the pages and get rid of duplicates. There are quite a few categories, but for now only the essential veg&fruit shall suffice."
   ]
  },
  {
   "cell_type": "code",
   "execution_count": 4,
   "metadata": {},
   "outputs": [
    {
     "data": {
      "text/plain": [
       "(311, 174)"
      ]
     },
     "execution_count": 4,
     "metadata": {},
     "output_type": "execute_result"
    }
   ],
   "source": [
    "len(data), len(set(data))"
   ]
  },
  {
   "cell_type": "markdown",
   "metadata": {},
   "source": [
    "Once that is done, I will use requests and beautiful soup to obtain \n",
    "all the specific bits of data from each page "
   ]
  },
  {
   "cell_type": "code",
   "execution_count": 5,
   "metadata": {},
   "outputs": [],
   "source": [
    "import requests\n",
    "from bs4 import BeautifulSoup"
   ]
  },
  {
   "cell_type": "code",
   "execution_count": 6,
   "metadata": {},
   "outputs": [],
   "source": [
    "url = 'https://sainsburys.co.uk/gol-ui/product/sainsburys-loose-fairtrade-bananas'"
   ]
  },
  {
   "cell_type": "code",
   "execution_count": 8,
   "metadata": {},
   "outputs": [],
   "source": [
    "r = requests.get(url)"
   ]
  },
  {
   "cell_type": "code",
   "execution_count": 10,
   "metadata": {},
   "outputs": [
    {
     "data": {
      "text/plain": [
       "'<!doctype html><html lang=\"en\"><head><meta http-equiv=\"X-UA-Compatible\" content=\"IE=Edge,chrome=1\"/><meta charset=\"utf-8\"/><title>Sainsbury\\'s online Grocery Shopping and Fresh Food Delivery</title><meta name=\"viewport\" content=\"width=device-width,initial-scale=1,shrink-to-fit=no\"/><meta name=\"theme-color\" content=\"#000000\"/><link rel=\"preconnect\" href=\"%REACT_APP_DIGITAL_ASSETS_URL%\" crossorigin/><link rel=\"dns-prefetch\" href=\"%REACT_APP_DIGITAL_ASSETS_URL%\"/><link rel=\"shortcut icon\" href=\"/favicon.ico\"/><link href=\"/gol-ui/static/css/app.0c0182a3.css\" rel=\"stylesheet\"></head><body><noscript>You need to enable JavaScript to run this app.</noscript><script>window.utag_cfg_ovrd={noview:!0},window.digitalData={event:[],page:{pageInfo:{pageName:\"\",newSite:\"yes\",shoppingMode:\"normal\",breadCrumbs:\"\",section:\"\",pageCategory:\"\",aisle:\"\",shelf:\"\",pageTemplate:\"\",lang:\"en-gb\",rendering:\"web\"},events:[]},user:{profile:{profileInfo:{websphereId:\"\",user_status:\"\",\"user id\":\"\"}}}}</script><div id=\"root\"></div><script src=\"/gol-ui/static/js/config.js?cb=7e1109a5\"></script><script src=\"/gol-ui/static/js/newrelic.9a077164.js\"></script><script src=\"/gol-ui/static/js/app.804b737e.js\"></script></body></html>'"
      ]
     },
     "execution_count": 10,
     "metadata": {},
     "output_type": "execute_result"
    }
   ],
   "source": [
    "r.text"
   ]
  },
  {
   "cell_type": "markdown",
   "metadata": {},
   "source": [
    "problem - this is not working probably they are using react for the website \n",
    "at sainsburys and requests dont get that loaded; solution:"
   ]
  },
  {
   "cell_type": "code",
   "execution_count": 11,
   "metadata": {},
   "outputs": [],
   "source": [
    "from selenium import webdriver "
   ]
  },
  {
   "cell_type": "code",
   "execution_count": 14,
   "metadata": {},
   "outputs": [],
   "source": [
    "driver = webdriver.Chrome('C://Users/48602/Desktop/chromedriver.exe')"
   ]
  },
  {
   "cell_type": "code",
   "execution_count": 15,
   "metadata": {},
   "outputs": [],
   "source": [
    "driver.get(url)"
   ]
  },
  {
   "cell_type": "code",
   "execution_count": 23,
   "metadata": {},
   "outputs": [],
   "source": [
    "table = driver.find_element_by_class_name('nutritionTable')"
   ]
  },
  {
   "cell_type": "code",
   "execution_count": 28,
   "metadata": {},
   "outputs": [
    {
     "data": {
      "text/plain": [
       "'100g contains    % based on RI for Average Adult\\nEnergy 362kJ 0kJ -\\n85kcal 0kcal -\\nFat <0.5g - -\\nSaturates <0.1g - -\\nCarbohydrate 19.3g - -\\nSugars 18.1g - -\\nFibre 1.4g - -\\nProtein 1.1g - -\\nSalt <0.01g - -'"
      ]
     },
     "execution_count": 28,
     "metadata": {},
     "output_type": "execute_result"
    }
   ],
   "source": [
    "table.text"
   ]
  }
 ],
 "metadata": {
  "kernelspec": {
   "display_name": "Python 3",
   "language": "python",
   "name": "python3"
  },
  "language_info": {
   "codemirror_mode": {
    "name": "ipython",
    "version": 3
   },
   "file_extension": ".py",
   "mimetype": "text/x-python",
   "name": "python",
   "nbconvert_exporter": "python",
   "pygments_lexer": "ipython3",
   "version": "3.7.6"
  }
 },
 "nbformat": 4,
 "nbformat_minor": 4
}
