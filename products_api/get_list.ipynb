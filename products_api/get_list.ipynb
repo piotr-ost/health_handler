{
 "cells": [
  {
   "cell_type": "code",
   "execution_count": 112,
   "metadata": {},
   "outputs": [],
   "source": [
    "import pandas as pd\n",
    "import numpy as np\n",
    "import json"
   ]
  },
  {
   "cell_type": "code",
   "execution_count": 113,
   "metadata": {},
   "outputs": [],
   "source": [
    "filepath = '../shopping_lists/shoppingList1.json'"
   ]
  },
  {
   "cell_type": "code",
   "execution_count": 134,
   "metadata": {},
   "outputs": [],
   "source": [
    "with open(filepath) as f:\n",
    "    shopping_list = json.load(f)"
   ]
  },
  {
   "cell_type": "code",
   "execution_count": 135,
   "metadata": {
    "scrolled": false
   },
   "outputs": [],
   "source": [
    "def get_items(shopping_list):\n",
    "    items_df = pd.DataFrame([i[0] for i in pd.DataFrame(obj['aisles'])['items']])\n",
    "    qties = pd.DataFrame(list(items_df['measures']))['metric']\n",
    "    items_df.drop(['measures', 'usages', 'pantryItem', 'cost'], axis=1, inplace=True)\n",
    "    items_df['amount'] = [i['amount'] for i in qties]\n",
    "    items_df['unit'] = [i['unit'] for i in qties]\n",
    "    return items_df"
   ]
  },
  {
   "cell_type": "code",
   "execution_count": 136,
   "metadata": {},
   "outputs": [],
   "source": [
    "items_df = get_items(shopping_list)"
   ]
  },
  {
   "cell_type": "code",
   "execution_count": 137,
   "metadata": {},
   "outputs": [
    {
     "data": {
      "text/html": [
       "<div>\n",
       "<style scoped>\n",
       "    .dataframe tbody tr th:only-of-type {\n",
       "        vertical-align: middle;\n",
       "    }\n",
       "\n",
       "    .dataframe tbody tr th {\n",
       "        vertical-align: top;\n",
       "    }\n",
       "\n",
       "    .dataframe thead th {\n",
       "        text-align: right;\n",
       "    }\n",
       "</style>\n",
       "<table border=\"1\" class=\"dataframe\">\n",
       "  <thead>\n",
       "    <tr style=\"text-align: right;\">\n",
       "      <th></th>\n",
       "      <th>id</th>\n",
       "      <th>name</th>\n",
       "      <th>aisle</th>\n",
       "      <th>ingredientId</th>\n",
       "      <th>amount</th>\n",
       "      <th>unit</th>\n",
       "    </tr>\n",
       "  </thead>\n",
       "  <tbody>\n",
       "    <tr>\n",
       "      <th>0</th>\n",
       "      <td>589081</td>\n",
       "      <td>apple cider vinegar</td>\n",
       "      <td>Oil, Vinegar, Salad Dressing</td>\n",
       "      <td>2048</td>\n",
       "      <td>59.8</td>\n",
       "      <td>ml</td>\n",
       "    </tr>\n",
       "    <tr>\n",
       "      <th>1</th>\n",
       "      <td>589083</td>\n",
       "      <td>vanilla extract</td>\n",
       "      <td>Baking</td>\n",
       "      <td>2050</td>\n",
       "      <td>0.4</td>\n",
       "      <td>ml</td>\n",
       "    </tr>\n",
       "    <tr>\n",
       "      <th>2</th>\n",
       "      <td>589091</td>\n",
       "      <td>asparagus</td>\n",
       "      <td>Produce</td>\n",
       "      <td>11011</td>\n",
       "      <td>100.0</td>\n",
       "      <td>g</td>\n",
       "    </tr>\n",
       "    <tr>\n",
       "      <th>3</th>\n",
       "      <td>589133</td>\n",
       "      <td>vegan cheese</td>\n",
       "      <td>Cheese</td>\n",
       "      <td>93701</td>\n",
       "      <td>18.7</td>\n",
       "      <td>ml</td>\n",
       "    </tr>\n",
       "    <tr>\n",
       "      <th>4</th>\n",
       "      <td>589135</td>\n",
       "      <td>light-brown sugar</td>\n",
       "      <td>Pantry Items</td>\n",
       "      <td>19334</td>\n",
       "      <td>6.2</td>\n",
       "      <td>g</td>\n",
       "    </tr>\n",
       "    <tr>\n",
       "      <th>5</th>\n",
       "      <td>589161</td>\n",
       "      <td>milk chocolate</td>\n",
       "      <td>Sweet Snacks</td>\n",
       "      <td>19081</td>\n",
       "      <td>8.6</td>\n",
       "      <td>g</td>\n",
       "    </tr>\n",
       "    <tr>\n",
       "      <th>6</th>\n",
       "      <td>589163</td>\n",
       "      <td>cooked black beans</td>\n",
       "      <td>Pasta and Rice</td>\n",
       "      <td>16015</td>\n",
       "      <td>28.7</td>\n",
       "      <td>g</td>\n",
       "    </tr>\n",
       "    <tr>\n",
       "      <th>7</th>\n",
       "      <td>589169</td>\n",
       "      <td>toast</td>\n",
       "      <td>Bakery/Bread</td>\n",
       "      <td>18070</td>\n",
       "      <td>2.0</td>\n",
       "      <td>pieces</td>\n",
       "    </tr>\n",
       "    <tr>\n",
       "      <th>8</th>\n",
       "      <td>589173</td>\n",
       "      <td>salted butter</td>\n",
       "      <td>Milk, Eggs, Other Dairy</td>\n",
       "      <td>1001001</td>\n",
       "      <td>14.2</td>\n",
       "      <td>g</td>\n",
       "    </tr>\n",
       "    <tr>\n",
       "      <th>9</th>\n",
       "      <td>589181</td>\n",
       "      <td>chicken broth</td>\n",
       "      <td>Canned and Jarred</td>\n",
       "      <td>6194</td>\n",
       "      <td>29.4</td>\n",
       "      <td>ml</td>\n",
       "    </tr>\n",
       "    <tr>\n",
       "      <th>10</th>\n",
       "      <td>589187</td>\n",
       "      <td>red chile flakes</td>\n",
       "      <td>Spices and Seasonings</td>\n",
       "      <td>1032009</td>\n",
       "      <td>0.2</td>\n",
       "      <td>g</td>\n",
       "    </tr>\n",
       "    <tr>\n",
       "      <th>11</th>\n",
       "      <td>589201</td>\n",
       "      <td>agave</td>\n",
       "      <td>Ethnic Foods</td>\n",
       "      <td>19912</td>\n",
       "      <td>21.0</td>\n",
       "      <td>ml</td>\n",
       "    </tr>\n",
       "    <tr>\n",
       "      <th>12</th>\n",
       "      <td>589203</td>\n",
       "      <td>sirloin steak</td>\n",
       "      <td>Meat</td>\n",
       "      <td>23625</td>\n",
       "      <td>226.8</td>\n",
       "      <td>g</td>\n",
       "    </tr>\n",
       "    <tr>\n",
       "      <th>13</th>\n",
       "      <td>589207</td>\n",
       "      <td>edamame</td>\n",
       "      <td>Health Foods</td>\n",
       "      <td>11212</td>\n",
       "      <td>77.5</td>\n",
       "      <td>g</td>\n",
       "    </tr>\n",
       "    <tr>\n",
       "      <th>14</th>\n",
       "      <td>589209</td>\n",
       "      <td>tofu</td>\n",
       "      <td>Refrigerated</td>\n",
       "      <td>16213</td>\n",
       "      <td>1.0</td>\n",
       "      <td></td>\n",
       "    </tr>\n",
       "    <tr>\n",
       "      <th>15</th>\n",
       "      <td>589211</td>\n",
       "      <td>pecans</td>\n",
       "      <td>Nuts</td>\n",
       "      <td>12142</td>\n",
       "      <td>6.2</td>\n",
       "      <td>g</td>\n",
       "    </tr>\n",
       "  </tbody>\n",
       "</table>\n",
       "</div>"
      ],
      "text/plain": [
       "        id                 name                         aisle  ingredientId  \\\n",
       "0   589081  apple cider vinegar  Oil, Vinegar, Salad Dressing          2048   \n",
       "1   589083      vanilla extract                        Baking          2050   \n",
       "2   589091            asparagus                       Produce         11011   \n",
       "3   589133         vegan cheese                        Cheese         93701   \n",
       "4   589135    light-brown sugar                  Pantry Items         19334   \n",
       "5   589161       milk chocolate                  Sweet Snacks         19081   \n",
       "6   589163   cooked black beans                Pasta and Rice         16015   \n",
       "7   589169                toast                  Bakery/Bread         18070   \n",
       "8   589173        salted butter       Milk, Eggs, Other Dairy       1001001   \n",
       "9   589181        chicken broth             Canned and Jarred          6194   \n",
       "10  589187     red chile flakes         Spices and Seasonings       1032009   \n",
       "11  589201                agave                  Ethnic Foods         19912   \n",
       "12  589203        sirloin steak                          Meat         23625   \n",
       "13  589207              edamame                  Health Foods         11212   \n",
       "14  589209                 tofu                  Refrigerated         16213   \n",
       "15  589211               pecans                          Nuts         12142   \n",
       "\n",
       "    amount    unit  \n",
       "0     59.8      ml  \n",
       "1      0.4      ml  \n",
       "2    100.0       g  \n",
       "3     18.7      ml  \n",
       "4      6.2       g  \n",
       "5      8.6       g  \n",
       "6     28.7       g  \n",
       "7      2.0  pieces  \n",
       "8     14.2       g  \n",
       "9     29.4      ml  \n",
       "10     0.2       g  \n",
       "11    21.0      ml  \n",
       "12   226.8       g  \n",
       "13    77.5       g  \n",
       "14     1.0          \n",
       "15     6.2       g  "
      ]
     },
     "execution_count": 137,
     "metadata": {},
     "output_type": "execute_result"
    }
   ],
   "source": [
    "items_df"
   ]
  },
  {
   "cell_type": "markdown",
   "metadata": {},
   "source": [
    "okay so we got our products, now we need to access the products database, Ill just use the current one (no re-scraping for now) for the sake of convenience"
   ]
  },
  {
   "cell_type": "code",
   "execution_count": 139,
   "metadata": {},
   "outputs": [
    {
     "name": "stdout",
     "output_type": "stream",
     "text": [
      " Volume in drive C has no label.\n",
      " Volume Serial Number is 0427-3F1F\n",
      "\n",
      " Directory of C:\\Users\\48602\\health_handler_app\\products_api\\products_api\n",
      "\n",
      "29.09.2020  21:08    <DIR>          .\n",
      "29.09.2020  21:08    <DIR>          ..\n",
      "29.09.2020  21:08                 0 __init__.py\n",
      "29.09.2020  21:08    <DIR>          __pycache__\n",
      "29.09.2020  21:08             3˙275 settings.py\n",
      "29.09.2020  21:08               759 urls.py\n",
      "29.09.2020  21:08               418 wsgi.py\n",
      "               4 File(s)          4˙452 bytes\n",
      "               3 Dir(s)  16˙112˙484˙352 bytes free\n"
     ]
    }
   ],
   "source": [
    "ls products_api"
   ]
  },
  {
   "cell_type": "code",
   "execution_count": 157,
   "metadata": {},
   "outputs": [],
   "source": [
    "import sqlite3"
   ]
  },
  {
   "cell_type": "code",
   "execution_count": 158,
   "metadata": {},
   "outputs": [],
   "source": [
    "conn = sqlite3.connect('products.db')"
   ]
  },
  {
   "cell_type": "code",
   "execution_count": 159,
   "metadata": {},
   "outputs": [],
   "source": [
    "c = conn.cursor()"
   ]
  },
  {
   "cell_type": "code",
   "execution_count": 160,
   "metadata": {},
   "outputs": [
    {
     "data": {
      "text/plain": [
       "<sqlite3.Cursor at 0x20b11d36b90>"
      ]
     },
     "execution_count": 160,
     "metadata": {},
     "output_type": "execute_result"
    }
   ],
   "source": [
    "c.execute(\"SELECT * FROM products_fruitveg;\")"
   ]
  },
  {
   "cell_type": "code",
   "execution_count": 161,
   "metadata": {},
   "outputs": [
    {
     "data": {
      "text/plain": [
       "[]"
      ]
     },
     "execution_count": 161,
     "metadata": {},
     "output_type": "execute_result"
    }
   ],
   "source": [
    "c.fetchall()"
   ]
  },
  {
   "cell_type": "markdown",
   "metadata": {},
   "source": [
    "okay so current api I made back in summer is all nice and all but all we need is \n",
    "[\n",
    "    product name,\n",
    "    amount, \n",
    "    unit,\n",
    "    price\n",
    "]"
   ]
  },
  {
   "cell_type": "markdown",
   "metadata": {},
   "source": [
    "the current api has multiple endpoints too like fruitveg and shit which is not going to be used at all, we need one endpoint 'products' with fields as above"
   ]
  },
  {
   "cell_type": "markdown",
   "metadata": {},
   "source": [
    "also the database is empty coz i wanted to re-populate it back in summer XD"
   ]
  },
  {
   "cell_type": "markdown",
   "metadata": {},
   "source": [
    "but its ayt Ill get it up and spinnin in a few hrs"
   ]
  }
 ],
 "metadata": {
  "kernelspec": {
   "display_name": "Python 3",
   "language": "python",
   "name": "python3"
  },
  "language_info": {
   "codemirror_mode": {
    "name": "ipython",
    "version": 3
   },
   "file_extension": ".py",
   "mimetype": "text/x-python",
   "name": "python",
   "nbconvert_exporter": "python",
   "pygments_lexer": "ipython3",
   "version": "3.7.6"
  }
 },
 "nbformat": 4,
 "nbformat_minor": 4
}
