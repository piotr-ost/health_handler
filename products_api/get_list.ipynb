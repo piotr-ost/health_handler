{
 "cells": [
  {
   "cell_type": "code",
   "execution_count": 11,
   "metadata": {},
   "outputs": [],
   "source": [
    "import pandas as pd\n",
    "import numpy as np\n",
    "import json"
   ]
  },
  {
   "cell_type": "code",
   "execution_count": 12,
   "metadata": {},
   "outputs": [],
   "source": [
    "filepath = '../shopping_lists/shoppingList1.json'"
   ]
  },
  {
   "cell_type": "code",
   "execution_count": 13,
   "metadata": {},
   "outputs": [],
   "source": [
    "with open(filepath) as f:\n",
    "    shopping_list = json.load(f)"
   ]
  },
  {
   "cell_type": "code",
   "execution_count": 183,
   "metadata": {
    "scrolled": false
   },
   "outputs": [],
   "source": [
    "def get_items(shopping_list):\n",
    "    items_df = pd.DataFrame([i[0] for i in pd.DataFrame(shopping_list['aisles'])['items']])\n",
    "    qties = pd.DataFrame(list(items_df['measures']))['metric']\n",
    "    items_df.drop(['measures', 'usages', 'pantryItem', 'cost'], axis=1, inplace=True)\n",
    "    items_df['amount'] = [i['amount'] for i in qties]\n",
    "    items_df['unit'] = [i['unit'] for i in qties]\n",
    "    items_df['name'] = items_df['name'].map(str.split)\n",
    "    return items_df"
   ]
  },
  {
   "cell_type": "code",
   "execution_count": 187,
   "metadata": {},
   "outputs": [],
   "source": [
    "items_df = get_items(shopping_list)"
   ]
  },
  {
   "cell_type": "code",
   "execution_count": 188,
   "metadata": {},
   "outputs": [
    {
     "data": {
      "text/html": [
       "<div>\n",
       "<style scoped>\n",
       "    .dataframe tbody tr th:only-of-type {\n",
       "        vertical-align: middle;\n",
       "    }\n",
       "\n",
       "    .dataframe tbody tr th {\n",
       "        vertical-align: top;\n",
       "    }\n",
       "\n",
       "    .dataframe thead th {\n",
       "        text-align: right;\n",
       "    }\n",
       "</style>\n",
       "<table border=\"1\" class=\"dataframe\">\n",
       "  <thead>\n",
       "    <tr style=\"text-align: right;\">\n",
       "      <th></th>\n",
       "      <th>id</th>\n",
       "      <th>name</th>\n",
       "      <th>aisle</th>\n",
       "      <th>ingredientId</th>\n",
       "      <th>amount</th>\n",
       "      <th>unit</th>\n",
       "    </tr>\n",
       "  </thead>\n",
       "  <tbody>\n",
       "    <tr>\n",
       "      <th>0</th>\n",
       "      <td>589081</td>\n",
       "      <td>[apple, cider, vinegar]</td>\n",
       "      <td>Oil, Vinegar, Salad Dressing</td>\n",
       "      <td>2048</td>\n",
       "      <td>59.8</td>\n",
       "      <td>ml</td>\n",
       "    </tr>\n",
       "    <tr>\n",
       "      <th>1</th>\n",
       "      <td>589083</td>\n",
       "      <td>[vanilla, extract]</td>\n",
       "      <td>Baking</td>\n",
       "      <td>2050</td>\n",
       "      <td>0.4</td>\n",
       "      <td>ml</td>\n",
       "    </tr>\n",
       "    <tr>\n",
       "      <th>2</th>\n",
       "      <td>589091</td>\n",
       "      <td>[asparagus]</td>\n",
       "      <td>Produce</td>\n",
       "      <td>11011</td>\n",
       "      <td>100.0</td>\n",
       "      <td>g</td>\n",
       "    </tr>\n",
       "    <tr>\n",
       "      <th>3</th>\n",
       "      <td>589133</td>\n",
       "      <td>[vegan, cheese]</td>\n",
       "      <td>Cheese</td>\n",
       "      <td>93701</td>\n",
       "      <td>18.7</td>\n",
       "      <td>ml</td>\n",
       "    </tr>\n",
       "    <tr>\n",
       "      <th>4</th>\n",
       "      <td>589135</td>\n",
       "      <td>[light-brown, sugar]</td>\n",
       "      <td>Pantry Items</td>\n",
       "      <td>19334</td>\n",
       "      <td>6.2</td>\n",
       "      <td>g</td>\n",
       "    </tr>\n",
       "    <tr>\n",
       "      <th>5</th>\n",
       "      <td>589161</td>\n",
       "      <td>[milk, chocolate]</td>\n",
       "      <td>Sweet Snacks</td>\n",
       "      <td>19081</td>\n",
       "      <td>8.6</td>\n",
       "      <td>g</td>\n",
       "    </tr>\n",
       "    <tr>\n",
       "      <th>6</th>\n",
       "      <td>589163</td>\n",
       "      <td>[cooked, black, beans]</td>\n",
       "      <td>Pasta and Rice</td>\n",
       "      <td>16015</td>\n",
       "      <td>28.7</td>\n",
       "      <td>g</td>\n",
       "    </tr>\n",
       "    <tr>\n",
       "      <th>7</th>\n",
       "      <td>589169</td>\n",
       "      <td>[toast]</td>\n",
       "      <td>Bakery/Bread</td>\n",
       "      <td>18070</td>\n",
       "      <td>2.0</td>\n",
       "      <td>pieces</td>\n",
       "    </tr>\n",
       "    <tr>\n",
       "      <th>8</th>\n",
       "      <td>589173</td>\n",
       "      <td>[salted, butter]</td>\n",
       "      <td>Milk, Eggs, Other Dairy</td>\n",
       "      <td>1001001</td>\n",
       "      <td>14.2</td>\n",
       "      <td>g</td>\n",
       "    </tr>\n",
       "    <tr>\n",
       "      <th>9</th>\n",
       "      <td>589181</td>\n",
       "      <td>[chicken, broth]</td>\n",
       "      <td>Canned and Jarred</td>\n",
       "      <td>6194</td>\n",
       "      <td>29.4</td>\n",
       "      <td>ml</td>\n",
       "    </tr>\n",
       "    <tr>\n",
       "      <th>10</th>\n",
       "      <td>589187</td>\n",
       "      <td>[red, chile, flakes]</td>\n",
       "      <td>Spices and Seasonings</td>\n",
       "      <td>1032009</td>\n",
       "      <td>0.2</td>\n",
       "      <td>g</td>\n",
       "    </tr>\n",
       "    <tr>\n",
       "      <th>11</th>\n",
       "      <td>589201</td>\n",
       "      <td>[agave]</td>\n",
       "      <td>Ethnic Foods</td>\n",
       "      <td>19912</td>\n",
       "      <td>21.0</td>\n",
       "      <td>ml</td>\n",
       "    </tr>\n",
       "    <tr>\n",
       "      <th>12</th>\n",
       "      <td>589203</td>\n",
       "      <td>[sirloin, steak]</td>\n",
       "      <td>Meat</td>\n",
       "      <td>23625</td>\n",
       "      <td>226.8</td>\n",
       "      <td>g</td>\n",
       "    </tr>\n",
       "    <tr>\n",
       "      <th>13</th>\n",
       "      <td>589207</td>\n",
       "      <td>[edamame]</td>\n",
       "      <td>Health Foods</td>\n",
       "      <td>11212</td>\n",
       "      <td>77.5</td>\n",
       "      <td>g</td>\n",
       "    </tr>\n",
       "    <tr>\n",
       "      <th>14</th>\n",
       "      <td>589209</td>\n",
       "      <td>[tofu]</td>\n",
       "      <td>Refrigerated</td>\n",
       "      <td>16213</td>\n",
       "      <td>1.0</td>\n",
       "      <td></td>\n",
       "    </tr>\n",
       "    <tr>\n",
       "      <th>15</th>\n",
       "      <td>589211</td>\n",
       "      <td>[pecans]</td>\n",
       "      <td>Nuts</td>\n",
       "      <td>12142</td>\n",
       "      <td>6.2</td>\n",
       "      <td>g</td>\n",
       "    </tr>\n",
       "  </tbody>\n",
       "</table>\n",
       "</div>"
      ],
      "text/plain": [
       "        id                     name                         aisle  \\\n",
       "0   589081  [apple, cider, vinegar]  Oil, Vinegar, Salad Dressing   \n",
       "1   589083       [vanilla, extract]                        Baking   \n",
       "2   589091              [asparagus]                       Produce   \n",
       "3   589133          [vegan, cheese]                        Cheese   \n",
       "4   589135     [light-brown, sugar]                  Pantry Items   \n",
       "5   589161        [milk, chocolate]                  Sweet Snacks   \n",
       "6   589163   [cooked, black, beans]                Pasta and Rice   \n",
       "7   589169                  [toast]                  Bakery/Bread   \n",
       "8   589173         [salted, butter]       Milk, Eggs, Other Dairy   \n",
       "9   589181         [chicken, broth]             Canned and Jarred   \n",
       "10  589187     [red, chile, flakes]         Spices and Seasonings   \n",
       "11  589201                  [agave]                  Ethnic Foods   \n",
       "12  589203         [sirloin, steak]                          Meat   \n",
       "13  589207                [edamame]                  Health Foods   \n",
       "14  589209                   [tofu]                  Refrigerated   \n",
       "15  589211                 [pecans]                          Nuts   \n",
       "\n",
       "    ingredientId  amount    unit  \n",
       "0           2048    59.8      ml  \n",
       "1           2050     0.4      ml  \n",
       "2          11011   100.0       g  \n",
       "3          93701    18.7      ml  \n",
       "4          19334     6.2       g  \n",
       "5          19081     8.6       g  \n",
       "6          16015    28.7       g  \n",
       "7          18070     2.0  pieces  \n",
       "8        1001001    14.2       g  \n",
       "9           6194    29.4      ml  \n",
       "10       1032009     0.2       g  \n",
       "11         19912    21.0      ml  \n",
       "12         23625   226.8       g  \n",
       "13         11212    77.5       g  \n",
       "14         16213     1.0          \n",
       "15         12142     6.2       g  "
      ]
     },
     "execution_count": 188,
     "metadata": {},
     "output_type": "execute_result"
    }
   ],
   "source": [
    "items_df"
   ]
  },
  {
   "cell_type": "code",
   "execution_count": 20,
   "metadata": {},
   "outputs": [],
   "source": [
    "import requests"
   ]
  },
  {
   "cell_type": "code",
   "execution_count": 220,
   "metadata": {},
   "outputs": [],
   "source": [
    "r = requests.get('http://localhost:8000/products?format=json')"
   ]
  },
  {
   "cell_type": "code",
   "execution_count": 221,
   "metadata": {},
   "outputs": [],
   "source": [
    "shop_df = pd.DataFrame(json.loads(r.content.decode()))"
   ]
  },
  {
   "cell_type": "code",
   "execution_count": 222,
   "metadata": {},
   "outputs": [],
   "source": [
    "raw = shop_df.copy()"
   ]
  },
  {
   "cell_type": "code",
   "execution_count": 223,
   "metadata": {},
   "outputs": [],
   "source": [
    "shop_df['name'] = [i.lower() for i in shop_df['name']]"
   ]
  },
  {
   "cell_type": "code",
   "execution_count": 224,
   "metadata": {},
   "outputs": [
    {
     "data": {
      "text/html": [
       "<div>\n",
       "<style scoped>\n",
       "    .dataframe tbody tr th:only-of-type {\n",
       "        vertical-align: middle;\n",
       "    }\n",
       "\n",
       "    .dataframe tbody tr th {\n",
       "        vertical-align: top;\n",
       "    }\n",
       "\n",
       "    .dataframe thead th {\n",
       "        text-align: right;\n",
       "    }\n",
       "</style>\n",
       "<table border=\"1\" class=\"dataframe\">\n",
       "  <thead>\n",
       "    <tr style=\"text-align: right;\">\n",
       "      <th></th>\n",
       "      <th>store</th>\n",
       "      <th>name</th>\n",
       "      <th>img_url</th>\n",
       "      <th>price</th>\n",
       "      <th>currency</th>\n",
       "      <th>amount</th>\n",
       "      <th>unit</th>\n",
       "    </tr>\n",
       "  </thead>\n",
       "  <tbody>\n",
       "    <tr>\n",
       "      <th>0</th>\n",
       "      <td>sainsburys</td>\n",
       "      <td>sainsbury's fairtrade bananas loose</td>\n",
       "      <td>https://www.sainsburys.co.uk/wcsstore7.59.1/Ex...</td>\n",
       "      <td>73.0</td>\n",
       "      <td>p</td>\n",
       "      <td>Loose</td>\n",
       "      <td>kg</td>\n",
       "    </tr>\n",
       "    <tr>\n",
       "      <th>1</th>\n",
       "      <td>sainsburys</td>\n",
       "      <td>sainsbury's carrots loose</td>\n",
       "      <td>https://www.sainsburys.co.uk/wcsstore7.59.1/Ex...</td>\n",
       "      <td>41.0</td>\n",
       "      <td>p</td>\n",
       "      <td>Loose</td>\n",
       "      <td>kg</td>\n",
       "    </tr>\n",
       "    <tr>\n",
       "      <th>2</th>\n",
       "      <td>sainsburys</td>\n",
       "      <td>sainsbury's whole cucumber</td>\n",
       "      <td>https://www.sainsburys.co.uk/wcsstore7.59.1/Ex...</td>\n",
       "      <td>43.0</td>\n",
       "      <td>p</td>\n",
       "      <td></td>\n",
       "      <td>unit</td>\n",
       "    </tr>\n",
       "    <tr>\n",
       "      <th>3</th>\n",
       "      <td>sainsburys</td>\n",
       "      <td>sainsbury's onions loose</td>\n",
       "      <td>https://www.sainsburys.co.uk/wcsstore7.59.1/Sa...</td>\n",
       "      <td>85.0</td>\n",
       "      <td>p</td>\n",
       "      <td>Loose</td>\n",
       "      <td>kg</td>\n",
       "    </tr>\n",
       "    <tr>\n",
       "      <th>4</th>\n",
       "      <td>sainsburys</td>\n",
       "      <td>sainsbury's baking potatoes loose</td>\n",
       "      <td>https://www.sainsburys.co.uk/wcsstore7.59.1/Ex...</td>\n",
       "      <td>64.0</td>\n",
       "      <td>p</td>\n",
       "      <td>Loose</td>\n",
       "      <td>kg</td>\n",
       "    </tr>\n",
       "  </tbody>\n",
       "</table>\n",
       "</div>"
      ],
      "text/plain": [
       "        store                                 name  \\\n",
       "0  sainsburys  sainsbury's fairtrade bananas loose   \n",
       "1  sainsburys            sainsbury's carrots loose   \n",
       "2  sainsburys           sainsbury's whole cucumber   \n",
       "3  sainsburys             sainsbury's onions loose   \n",
       "4  sainsburys    sainsbury's baking potatoes loose   \n",
       "\n",
       "                                             img_url  price currency amount  \\\n",
       "0  https://www.sainsburys.co.uk/wcsstore7.59.1/Ex...   73.0        p  Loose   \n",
       "1  https://www.sainsburys.co.uk/wcsstore7.59.1/Ex...   41.0        p  Loose   \n",
       "2  https://www.sainsburys.co.uk/wcsstore7.59.1/Ex...   43.0        p          \n",
       "3  https://www.sainsburys.co.uk/wcsstore7.59.1/Sa...   85.0        p  Loose   \n",
       "4  https://www.sainsburys.co.uk/wcsstore7.59.1/Ex...   64.0        p  Loose   \n",
       "\n",
       "   unit  \n",
       "0    kg  \n",
       "1    kg  \n",
       "2  unit  \n",
       "3    kg  \n",
       "4    kg  "
      ]
     },
     "execution_count": 224,
     "metadata": {},
     "output_type": "execute_result"
    }
   ],
   "source": [
    "shop_df.head()"
   ]
  },
  {
   "cell_type": "code",
   "execution_count": 225,
   "metadata": {},
   "outputs": [],
   "source": [
    "product = items_df.iloc[0]"
   ]
  },
  {
   "cell_type": "code",
   "execution_count": 226,
   "metadata": {},
   "outputs": [
    {
     "data": {
      "text/plain": [
       "id                                    589081\n",
       "name                 [apple, cider, vinegar]\n",
       "aisle           Oil, Vinegar, Salad Dressing\n",
       "ingredientId                            2048\n",
       "amount                                  59.8\n",
       "unit                                      ml\n",
       "Name: 0, dtype: object"
      ]
     },
     "execution_count": 226,
     "metadata": {},
     "output_type": "execute_result"
    }
   ],
   "source": [
    "product"
   ]
  },
  {
   "cell_type": "code",
   "execution_count": 243,
   "metadata": {
    "scrolled": true
   },
   "outputs": [
    {
     "data": {
      "text/html": [
       "<div>\n",
       "<style scoped>\n",
       "    .dataframe tbody tr th:only-of-type {\n",
       "        vertical-align: middle;\n",
       "    }\n",
       "\n",
       "    .dataframe tbody tr th {\n",
       "        vertical-align: top;\n",
       "    }\n",
       "\n",
       "    .dataframe thead th {\n",
       "        text-align: right;\n",
       "    }\n",
       "</style>\n",
       "<table border=\"1\" class=\"dataframe\">\n",
       "  <thead>\n",
       "    <tr style=\"text-align: right;\">\n",
       "      <th></th>\n",
       "      <th>store</th>\n",
       "      <th>name</th>\n",
       "      <th>img_url</th>\n",
       "      <th>price</th>\n",
       "      <th>currency</th>\n",
       "      <th>amount</th>\n",
       "      <th>unit</th>\n",
       "    </tr>\n",
       "  </thead>\n",
       "  <tbody>\n",
       "    <tr>\n",
       "      <th>745</th>\n",
       "      <td>sainsburys</td>\n",
       "      <td>sainsbury's black beans carton, so organic 380...</td>\n",
       "      <td>https://www.sainsburys.co.uk/wcsstore7.59.1/Ex...</td>\n",
       "      <td>75.0</td>\n",
       "      <td>p</td>\n",
       "      <td>(230g*)</td>\n",
       "      <td>unit</td>\n",
       "    </tr>\n",
       "  </tbody>\n",
       "</table>\n",
       "</div>"
      ],
      "text/plain": [
       "          store                                               name  \\\n",
       "745  sainsburys  sainsbury's black beans carton, so organic 380...   \n",
       "\n",
       "                                               img_url  price currency  \\\n",
       "745  https://www.sainsburys.co.uk/wcsstore7.59.1/Ex...   75.0        p   \n",
       "\n",
       "      amount  unit  \n",
       "745  (230g*)  unit  "
      ]
     },
     "execution_count": 243,
     "metadata": {},
     "output_type": "execute_result"
    }
   ],
   "source": [
    "shop_df[shop_df['name'].str.contains('(?=.*black)(?=.*beans)')]"
   ]
  },
  {
   "cell_type": "code",
   "execution_count": 286,
   "metadata": {
    "scrolled": false
   },
   "outputs": [
    {
     "name": "stdout",
     "output_type": "stream",
     "text": [
      "no such product: apple cider vinegar\n",
      "no such product: vanilla extract\n",
      "no such product: asparagus\n",
      "appending vegan cheese\n",
      "no such product: light-brown sugar\n",
      "appending milk chocolate\n",
      "no such product: cooked black beans\n",
      "appending toast\n",
      "appending salted butter\n",
      "appending chicken broth\n",
      "no such product: red chile flakes\n",
      "no such product: agave\n",
      "appending sirloin steak\n",
      "no such product: edamame\n",
      "no such product: tofu\n",
      "no such product: pecans\n"
     ]
    }
   ],
   "source": [
    "matches_df = pd.DataFrame()\n",
    "for product in items_df.iloc:\n",
    "    regex = ''.join([f'(?=.*{i})' for i in product['name']])   \n",
    "    entries = shop_df['name'].str.contains(regex)    \n",
    "    if entries.any():\n",
    "        matches = shop_df[entries]\n",
    "        print(f\"appending {' '.join(product['name'])}\")\n",
    "        matches_df = matches_df.append(matches)\n",
    "    else:\n",
    "        print(f\"no such product: {' '.join(product['name'])}\")"
   ]
  },
  {
   "cell_type": "code",
   "execution_count": 287,
   "metadata": {},
   "outputs": [
    {
     "data": {
      "text/html": [
       "<div>\n",
       "<style scoped>\n",
       "    .dataframe tbody tr th:only-of-type {\n",
       "        vertical-align: middle;\n",
       "    }\n",
       "\n",
       "    .dataframe tbody tr th {\n",
       "        vertical-align: top;\n",
       "    }\n",
       "\n",
       "    .dataframe thead th {\n",
       "        text-align: right;\n",
       "    }\n",
       "</style>\n",
       "<table border=\"1\" class=\"dataframe\">\n",
       "  <thead>\n",
       "    <tr style=\"text-align: right;\">\n",
       "      <th></th>\n",
       "      <th>store</th>\n",
       "      <th>name</th>\n",
       "      <th>img_url</th>\n",
       "      <th>price</th>\n",
       "      <th>currency</th>\n",
       "      <th>amount</th>\n",
       "      <th>unit</th>\n",
       "    </tr>\n",
       "  </thead>\n",
       "  <tbody>\n",
       "    <tr>\n",
       "      <th>847</th>\n",
       "      <td>sainsburys</td>\n",
       "      <td>kitkat 4 finger milk chocolate bar multipack 4...</td>\n",
       "      <td>https://www.sainsburys.co.uk/wcsstore7.59.1/Ex...</td>\n",
       "      <td>1.00</td>\n",
       "      <td>GBP</td>\n",
       "      <td>4x41.5g</td>\n",
       "      <td>unit</td>\n",
       "    </tr>\n",
       "    <tr>\n",
       "      <th>720</th>\n",
       "      <td>sainsburys</td>\n",
       "      <td>cadbury dairy milk chocolate bar 200g</td>\n",
       "      <td>https://www.sainsburys.co.uk/wcsstore7.59.1/Ex...</td>\n",
       "      <td>1.50</td>\n",
       "      <td>GBP</td>\n",
       "      <td>200g</td>\n",
       "      <td>unit</td>\n",
       "    </tr>\n",
       "    <tr>\n",
       "      <th>723</th>\n",
       "      <td>sainsburys</td>\n",
       "      <td>cadbury dairy milk giant chocolate buttons bag...</td>\n",
       "      <td>https://www.sainsburys.co.uk/wcsstore7.59.1/Ex...</td>\n",
       "      <td>1.50</td>\n",
       "      <td>GBP</td>\n",
       "      <td>119g</td>\n",
       "      <td>unit</td>\n",
       "    </tr>\n",
       "    <tr>\n",
       "      <th>901</th>\n",
       "      <td>sainsburys</td>\n",
       "      <td>cadbury dairy milk chocolate bar 10x29.3g</td>\n",
       "      <td>https://www.sainsburys.co.uk/wcsstore7.59.1/Ex...</td>\n",
       "      <td>2.00</td>\n",
       "      <td>GBP</td>\n",
       "      <td>10x29.3g</td>\n",
       "      <td>unit</td>\n",
       "    </tr>\n",
       "    <tr>\n",
       "      <th>1089</th>\n",
       "      <td>sainsburys</td>\n",
       "      <td>sainsbury's indulgence ice cream, milk chocola...</td>\n",
       "      <td>https://www.sainsburys.co.uk/wcsstore7.59.1/Ex...</td>\n",
       "      <td>1.35</td>\n",
       "      <td>GBP</td>\n",
       "      <td>4x110ml</td>\n",
       "      <td>unit</td>\n",
       "    </tr>\n",
       "    <tr>\n",
       "      <th>702</th>\n",
       "      <td>sainsburys</td>\n",
       "      <td>mcvitie's milk chocolate digestives biscuits 266g</td>\n",
       "      <td>https://www.sainsburys.co.uk/wcsstore7.59.1/Ex...</td>\n",
       "      <td>1.60</td>\n",
       "      <td>GBP</td>\n",
       "      <td>266g</td>\n",
       "      <td>unit</td>\n",
       "    </tr>\n",
       "    <tr>\n",
       "      <th>632</th>\n",
       "      <td>sainsburys</td>\n",
       "      <td>sainsbury's toastie thick sliced white bread 800g</td>\n",
       "      <td>https://www.sainsburys.co.uk/wcsstore7.59.1/Ex...</td>\n",
       "      <td>55.00</td>\n",
       "      <td>p</td>\n",
       "      <td>800g</td>\n",
       "      <td>unit</td>\n",
       "    </tr>\n",
       "  </tbody>\n",
       "</table>\n",
       "</div>"
      ],
      "text/plain": [
       "           store                                               name  \\\n",
       "847   sainsburys  kitkat 4 finger milk chocolate bar multipack 4...   \n",
       "720   sainsburys              cadbury dairy milk chocolate bar 200g   \n",
       "723   sainsburys  cadbury dairy milk giant chocolate buttons bag...   \n",
       "901   sainsburys          cadbury dairy milk chocolate bar 10x29.3g   \n",
       "1089  sainsburys  sainsbury's indulgence ice cream, milk chocola...   \n",
       "702   sainsburys  mcvitie's milk chocolate digestives biscuits 266g   \n",
       "632   sainsburys  sainsbury's toastie thick sliced white bread 800g   \n",
       "\n",
       "                                                img_url  price currency  \\\n",
       "847   https://www.sainsburys.co.uk/wcsstore7.59.1/Ex...   1.00      GBP   \n",
       "720   https://www.sainsburys.co.uk/wcsstore7.59.1/Ex...   1.50      GBP   \n",
       "723   https://www.sainsburys.co.uk/wcsstore7.59.1/Ex...   1.50      GBP   \n",
       "901   https://www.sainsburys.co.uk/wcsstore7.59.1/Ex...   2.00      GBP   \n",
       "1089  https://www.sainsburys.co.uk/wcsstore7.59.1/Ex...   1.35      GBP   \n",
       "702   https://www.sainsburys.co.uk/wcsstore7.59.1/Ex...   1.60      GBP   \n",
       "632   https://www.sainsburys.co.uk/wcsstore7.59.1/Ex...  55.00        p   \n",
       "\n",
       "        amount  unit  \n",
       "847    4x41.5g  unit  \n",
       "720       200g  unit  \n",
       "723       119g  unit  \n",
       "901   10x29.3g  unit  \n",
       "1089   4x110ml  unit  \n",
       "702       266g  unit  \n",
       "632       800g  unit  "
      ]
     },
     "execution_count": 287,
     "metadata": {},
     "output_type": "execute_result"
    }
   ],
   "source": [
    "matches_df.sample(frac=0.2)"
   ]
  },
  {
   "cell_type": "markdown",
   "metadata": {},
   "source": [
    "okay so for now main problem is that there are missing products in our database, exotic stuff which for some reason is in this shopping list"
   ]
  },
  {
   "cell_type": "markdown",
   "metadata": {},
   "source": [
    "another issue is that sometimes there is like light-brown sugar which would be brown sugar basically, or red chile flakes instead of chilli flakes, edamame instead of edame so some food dict and matching shit could probably be added too"
   ]
  },
  {
   "cell_type": "markdown",
   "metadata": {},
   "source": [
    "also Im not really sure why its the case here that we cant get a shopping list per meal plan and its one per account, Ill check out if it has to do with bind user soon, this would be a nice option we could have a user per meal plan then. I would need a few more shopping lists to create a proper parsing program which will still be a pretty complex task"
   ]
  },
  {
   "cell_type": "markdown",
   "metadata": {},
   "source": [
    "I will have to use a wide logic and the more ingredients - the better"
   ]
  },
  {
   "cell_type": "markdown",
   "metadata": {},
   "source": [
    "I think that making a user account for now is not an issue, as a matter of fact I can implement async storage so that the state is going to be preserved after app restart"
   ]
  },
  {
   "cell_type": "markdown",
   "metadata": {},
   "source": [
    "additional thing to remember here is that we have to track the amount of ingredients each user has, or for now dont worry about re-suggesting to buy butter each week if a user hasnt used up all the butter yet"
   ]
  }
 ],
 "metadata": {
  "kernelspec": {
   "display_name": "Python 3",
   "language": "python",
   "name": "python3"
  },
  "language_info": {
   "codemirror_mode": {
    "name": "ipython",
    "version": 3
   },
   "file_extension": ".py",
   "mimetype": "text/x-python",
   "name": "python",
   "nbconvert_exporter": "python",
   "pygments_lexer": "ipython3",
   "version": "3.7.6"
  }
 },
 "nbformat": 4,
 "nbformat_minor": 4
}
